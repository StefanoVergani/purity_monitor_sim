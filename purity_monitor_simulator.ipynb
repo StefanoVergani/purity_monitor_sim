{
 "cells": [
  {
   "cell_type": "code",
   "execution_count": 1,
   "metadata": {},
   "outputs": [],
   "source": [
    "from PuritySimTools import PuritySimTools as pst\n",
    "from tabulate import tabulate\n",
    "\n",
    "###all measurements are initially in meters, Farad, Ohm, later on converted in MOhm and pF\n",
    "\n",
    "#geometrical parameters\n",
    "r_grid = pow(10,-2)\n",
    "r_K_plate = 4*pow(10,-2)\n",
    "r_A_plate = 4*pow(10,-2)\n",
    "r_base = 6*pow(10,-2)\n",
    "spacer = 8*pow(10,3)\n",
    "\n",
    "#areas\n",
    "\n",
    "A_grid = pst.area_radius(r_grid)\n",
    "A_K_plate = pst.area_radius(r_K_plate)\n",
    "A_A_plate = pst.area_radius(r_A_plate)\n",
    "A_base = pst.area_radius(r_base)\n",
    "\n",
    "\n",
    "#physical paramenters\n",
    "rho_air = 2*pow(10,16)\n",
    "e_air = 1\n",
    "e_lar = 1.505\n",
    "\n",
    "#electron transportation at 0.5 kV/cm and 87 K temperature taken from https://lar.bnl.gov/properties/#e-trans\n",
    "e_mobility = 320.2272 * pow(10,-4) ##this is because it is expressed in cm^2 and we want m^2\n",
    "# from this paper Electron transport in gaseous and liquid argon: Effects of density and temperature\n",
    "#I convinced myself a good number for n is 10^20\n",
    "e_density = pow(10,20)\n",
    "sigma_lar = pst.e_conductivity(e_density,e_mobility)"
   ]
  },
  {
   "cell_type": "code",
   "execution_count": 4,
   "metadata": {},
   "outputs": [
    {
     "data": {
      "text/plain": [
       "0.5130605331842458"
      ]
     },
     "execution_count": 4,
     "metadata": {},
     "output_type": "execute_result"
    }
   ],
   "source": [
    "sigma_lar"
   ]
  },
  {
   "cell_type": "code",
   "execution_count": 5,
   "metadata": {},
   "outputs": [
    {
     "data": {
      "text/plain": [
       "5e-17"
      ]
     },
     "execution_count": 5,
     "metadata": {},
     "output_type": "execute_result"
    }
   ],
   "source": [
    "pow(rho_air,-1)"
   ]
  },
  {
   "cell_type": "code",
   "execution_count": 6,
   "metadata": {},
   "outputs": [],
   "source": [
    "##resitance in air"
   ]
  },
  {
   "cell_type": "code",
   "execution_count": 7,
   "metadata": {},
   "outputs": [],
   "source": [
    "R1_air = pst.R_from_rho(pst.area_radius(r_grid),spacer,rho_air)\n",
    "R2_air = pst.R_from_rho(pst.area_radius(r_grid),2*spacer,rho_air)\n",
    "R3_air = pst.R_from_rho(pst.area_radius(r_grid),spacer,rho_air)\n",
    "Rgrid_air = 50*pow(10,6)*16"
   ]
  },
  {
   "cell_type": "code",
   "execution_count": 8,
   "metadata": {},
   "outputs": [],
   "source": [
    "resistance_list_air = [R3_air, R2_air, Rgrid_air, R1_air]"
   ]
  },
  {
   "cell_type": "code",
   "execution_count": 26,
   "metadata": {},
   "outputs": [
    {
     "data": {
      "text/plain": [
       "[5.0929581789406506e+23,\n",
       " 1.0185916357881301e+24,\n",
       " 800000000,\n",
       " 5.0929581789406506e+23]"
      ]
     },
     "execution_count": 26,
     "metadata": {},
     "output_type": "execute_result"
    }
   ],
   "source": [
    "resistance_list_air"
   ]
  },
  {
   "cell_type": "code",
   "execution_count": 9,
   "metadata": {},
   "outputs": [],
   "source": [
    "r_base_to_K_plate_air = pst.R_in_series(resistance_list_air[:1])*pow(10,-6)\n",
    "r_base_to_K_grid_air = pst.R_in_series(resistance_list_air[:2])*pow(10,-6)\n",
    "r_base_to_A_grid_air = pst.R_in_series(resistance_list_air[:3])*pow(10,-6)\n",
    "r_base_to_A_plate_air = pst.R_in_series(resistance_list_air[:4])*pow(10,-6)"
   ]
  },
  {
   "cell_type": "code",
   "execution_count": 10,
   "metadata": {},
   "outputs": [],
   "source": [
    "##capacitance in air"
   ]
  },
  {
   "cell_type": "code",
   "execution_count": 11,
   "metadata": {},
   "outputs": [],
   "source": [
    "C1_air = pst.C_from_plates(e_air, spacer, pst.area_radius(r_grid), pst.area_radius(r_A_plate))\n",
    "C2_air = pst.C_from_plates(e_air, 2*spacer, pst.area_radius(r_K_plate), pst.area_radius(r_grid))\n",
    "C3_air = pst.C_from_plates(e_air, spacer, pst.area_radius(r_base), pst.area_radius(r_K_plate))\n",
    "Cgrid_air = pst.C_from_plates(e_air, spacer, pst.area_radius(r_grid), pst.area_radius(r_grid))/16"
   ]
  },
  {
   "cell_type": "code",
   "execution_count": 12,
   "metadata": {},
   "outputs": [],
   "source": [
    "capacitance_list_air = [C3_air,C2_air,Cgrid_air,C1_air]"
   ]
  },
  {
   "cell_type": "code",
   "execution_count": 27,
   "metadata": {},
   "outputs": [
    {
     "data": {
      "text/plain": [
       "[3.851480963262525e-18,\n",
       " 1.6362500824317915e-19,\n",
       " 1.0865723203648615e-20,\n",
       " 3.272500164863583e-19]"
      ]
     },
     "execution_count": 27,
     "metadata": {},
     "output_type": "execute_result"
    }
   ],
   "source": [
    "capacitance_list_air"
   ]
  },
  {
   "cell_type": "code",
   "execution_count": 13,
   "metadata": {},
   "outputs": [],
   "source": [
    "c_base_to_K_plate_air = C3_air*pow(10,12)\n",
    "c_base_to_K_grid_air = pst.C_in_series(capacitance_list_air[:2])*pow(10,12)\n",
    "c_base_to_A_grid_air = pst.C_in_series(capacitance_list_air[:3])*pow(10,12)\n",
    "c_base_to_A_plate_air = pst.C_in_series(capacitance_list_air[:4])*pow(10,12)"
   ]
  },
  {
   "cell_type": "code",
   "execution_count": 14,
   "metadata": {},
   "outputs": [],
   "source": [
    "#resistance in LAr"
   ]
  },
  {
   "cell_type": "code",
   "execution_count": 15,
   "metadata": {},
   "outputs": [],
   "source": [
    "R1_lar = pst.R_from_sigma(pst.area_radius(r_grid),spacer,sigma_lar)\n",
    "R2_lar = pst.R_from_sigma(pst.area_radius(r_grid),2*spacer,sigma_lar)\n",
    "R3_lar = pst.R_from_sigma(pst.area_radius(r_grid),spacer,sigma_lar)\n",
    "Rgrid_lar = 50*pow(10,6)*16"
   ]
  },
  {
   "cell_type": "code",
   "execution_count": 16,
   "metadata": {},
   "outputs": [],
   "source": [
    "resistance_list_lar = [R3_lar, R2_lar, Rgrid_lar, R1_lar]"
   ]
  },
  {
   "cell_type": "code",
   "execution_count": 28,
   "metadata": {},
   "outputs": [
    {
     "data": {
      "text/plain": [
       "[5.0929581789406506e+23,\n",
       " 1.0185916357881301e+24,\n",
       " 800000000,\n",
       " 5.0929581789406506e+23]"
      ]
     },
     "execution_count": 28,
     "metadata": {},
     "output_type": "execute_result"
    }
   ],
   "source": [
    "resistance_list_air"
   ]
  },
  {
   "cell_type": "code",
   "execution_count": 17,
   "metadata": {},
   "outputs": [],
   "source": [
    "r_base_to_K_plate_lar = pst.R_in_series(resistance_list_lar[:1])*pow(10,-6)\n",
    "r_base_to_K_grid_lar = pst.R_in_series(resistance_list_lar[:2])*pow(10,-6)\n",
    "r_base_to_A_grid_lar = pst.R_in_series(resistance_list_lar[:3])*pow(10,-6)\n",
    "r_base_to_A_plate_lar = pst.R_in_series(resistance_list_lar[:4])*pow(10,-6)"
   ]
  },
  {
   "cell_type": "code",
   "execution_count": 18,
   "metadata": {},
   "outputs": [],
   "source": [
    "#capacitance in LAr"
   ]
  },
  {
   "cell_type": "code",
   "execution_count": 19,
   "metadata": {},
   "outputs": [],
   "source": [
    "C1_lar = pst.C_from_plates(e_lar, spacer, pst.area_radius(r_grid), pst.area_radius(r_A_plate))\n",
    "C2_lar = pst.C_from_plates(e_lar, 2*spacer, pst.area_radius(r_K_plate), pst.area_radius(r_grid))\n",
    "C3_lar = pst.C_from_plates(e_lar, spacer, pst.area_radius(r_base), pst.area_radius(r_K_plate))\n",
    "Cgrid_lar = pst.C_from_plates(e_lar, spacer, pst.area_radius(r_grid), pst.area_radius(r_grid))/16"
   ]
  },
  {
   "cell_type": "code",
   "execution_count": 20,
   "metadata": {},
   "outputs": [],
   "source": [
    "capacitance_list_lar = [C3_lar,C2_lar,Cgrid_lar,C1_lar]"
   ]
  },
  {
   "cell_type": "code",
   "execution_count": 21,
   "metadata": {},
   "outputs": [
    {
     "data": {
      "text/plain": [
       "[5.7964788497101e-18,\n",
       " 2.462556374059846e-19,\n",
       " 1.6352913421491165e-20,\n",
       " 4.925112748119692e-19]"
      ]
     },
     "execution_count": 21,
     "metadata": {},
     "output_type": "execute_result"
    }
   ],
   "source": [
    "capacitance_list_lar"
   ]
  },
  {
   "cell_type": "code",
   "execution_count": 22,
   "metadata": {},
   "outputs": [],
   "source": [
    "c_base_to_K_plate_lar = C3_lar*pow(10,12)\n",
    "c_base_to_K_grid_lar = pst.C_in_series(capacitance_list_lar[:2])*pow(10,12)\n",
    "c_base_to_A_grid_lar = pst.C_in_series(capacitance_list_lar[:3])*pow(10,12)\n",
    "c_base_to_A_plate_lar = pst.C_in_series(capacitance_list_lar[:4])*pow(10,12)"
   ]
  },
  {
   "cell_type": "code",
   "execution_count": 23,
   "metadata": {},
   "outputs": [],
   "source": [
    "###create a table\n",
    "\n",
    "#define header names\n",
    "col_names = [\"Air\", \"LAr\"]\n",
    "r_list = [[\"r_base_to_K_plate [MOhm]\",r_base_to_K_plate_air,r_base_to_K_plate_lar],[\"r_base_to_K_grid[MOhm]\",r_base_to_K_grid_air,r_base_to_K_grid_lar],[\"r_base_to_A_grid[MOhm]\",r_base_to_A_grid_air,r_base_to_A_grid_lar],[\"r_base_to_A_plate[MOhm]\",r_base_to_A_plate_air,r_base_to_A_plate_lar]]\n",
    "c_list = [[\"c_base_to_K_plate [pF]\",c_base_to_K_plate_air,c_base_to_K_plate_lar],[\"c_base_to_K_grid [pF]\",c_base_to_K_grid_air,c_base_to_K_grid_lar],[\"c_base_to_A_grid [pF]\",c_base_to_A_grid_air,c_base_to_A_grid_lar],[\"c_base_to_A_plate [pF]\",c_base_to_A_plate_air,c_base_to_A_plate_lar]]"
   ]
  },
  {
   "cell_type": "code",
   "execution_count": 24,
   "metadata": {},
   "outputs": [
    {
     "name": "stdout",
     "output_type": "stream",
     "text": [
      "╒══════════════════════════╤═════════════╤══════════╕\n",
      "│                          │         Air │      LAr │\n",
      "╞══════════════════════════╪═════════════╪══════════╡\n",
      "│ r_base_to_K_plate [MOhm] │ 5.09296e+17 │  49.6331 │\n",
      "├──────────────────────────┼─────────────┼──────────┤\n",
      "│ r_base_to_K_grid[MOhm]   │ 1.52789e+18 │ 148.899  │\n",
      "├──────────────────────────┼─────────────┼──────────┤\n",
      "│ r_base_to_A_grid[MOhm]   │ 1.52789e+18 │ 948.899  │\n",
      "├──────────────────────────┼─────────────┼──────────┤\n",
      "│ r_base_to_A_plate[MOhm]  │ 2.03718e+18 │ 998.532  │\n",
      "╘══════════════════════════╧═════════════╧══════════╛\n"
     ]
    }
   ],
   "source": [
    "print(tabulate(r_list, headers=(col_names),tablefmt=\"fancy_grid\"))"
   ]
  },
  {
   "cell_type": "code",
   "execution_count": 25,
   "metadata": {},
   "outputs": [
    {
     "name": "stdout",
     "output_type": "stream",
     "text": [
      "╒════════════════════════╤═════════════╤═════════════╕\n",
      "│                        │         Air │         LAr │\n",
      "╞════════════════════════╪═════════════╪═════════════╡\n",
      "│ c_base_to_K_plate [pF] │ 3.85148e-06 │ 5.79648e-06 │\n",
      "├────────────────────────┼─────────────┼─────────────┤\n",
      "│ c_base_to_K_grid [pF]  │ 1.56957e-07 │ 2.3622e-07  │\n",
      "├────────────────────────┼─────────────┼─────────────┤\n",
      "│ c_base_to_A_grid [pF]  │ 1.01622e-08 │ 1.52941e-08 │\n",
      "├────────────────────────┼─────────────┼─────────────┤\n",
      "│ c_base_to_A_plate [pF] │ 9.85615e-09 │ 1.48335e-08 │\n",
      "╘════════════════════════╧═════════════╧═════════════╛\n"
     ]
    }
   ],
   "source": [
    "print(tabulate(c_list, headers=(col_names),tablefmt=\"fancy_grid\"))"
   ]
  },
  {
   "cell_type": "code",
   "execution_count": null,
   "metadata": {},
   "outputs": [],
   "source": []
  }
 ],
 "metadata": {
  "kernelspec": {
   "display_name": "Python 3",
   "language": "python",
   "name": "python3"
  },
  "language_info": {
   "codemirror_mode": {
    "name": "ipython",
    "version": 3
   },
   "file_extension": ".py",
   "mimetype": "text/x-python",
   "name": "python",
   "nbconvert_exporter": "python",
   "pygments_lexer": "ipython3",
   "version": "3.7.1"
  }
 },
 "nbformat": 4,
 "nbformat_minor": 2
}
