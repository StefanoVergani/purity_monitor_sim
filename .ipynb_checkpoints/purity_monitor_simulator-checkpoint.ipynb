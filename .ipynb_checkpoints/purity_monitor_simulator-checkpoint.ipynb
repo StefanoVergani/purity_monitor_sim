{
 "cells": [
  {
   "cell_type": "code",
   "execution_count": 14,
   "metadata": {},
   "outputs": [],
   "source": [
    "from PuritySimTools import PuritySimTools as pst\n",
    "from tabulate import tabulate\n",
    "\n",
    "###all measurements are initially in meters, Farad, Ohm, later on converted in MOhm and pF\n",
    "\n",
    "#geometrical parameters\n",
    "r_grid = pow(10,-2)\n",
    "r_K_plate = 4*pow(10,-2)\n",
    "r_A_plate = 4*pow(10,-2)\n",
    "r_base = 6*pow(10,-2)\n",
    "spacer = 8*pow(10,3)\n",
    "\n",
    "#areas\n",
    "\n",
    "A_grid = pst.area_radius(r_grid)\n",
    "A_K_plate = pst.area_radius(r_K_plate)\n",
    "A_A_plate = pst.area_radius(r_A_plate)\n",
    "A_base = pst.area_radius(r_base)\n",
    "\n",
    "\n",
    "#physical paramenters\n",
    "rho_air = 2*pow(10,16)\n",
    "e_air = 1\n",
    "e_lar = 1.505"
   ]
  },
  {
   "cell_type": "code",
   "execution_count": 15,
   "metadata": {},
   "outputs": [],
   "source": [
    "R1_air = pst.R_from_rho(pst.area_radius(r_grid),spacer,rho_air)\n",
    "R2_air = pst.R_from_rho(pst.area_radius(r_grid),2*spacer,rho_air)\n",
    "R3_air = pst.R_from_rho(pst.area_radius(r_grid),spacer,rho_air)\n",
    "Rgrid_air = 50*pow(10,6)*16"
   ]
  },
  {
   "cell_type": "code",
   "execution_count": 16,
   "metadata": {},
   "outputs": [],
   "source": [
    "resistance_list_air = [R3_air, R2_air, Rgrid_air, R1_air]"
   ]
  },
  {
   "cell_type": "code",
   "execution_count": 17,
   "metadata": {},
   "outputs": [],
   "source": [
    "r_base_to_K_plate_air = pst.R_in_series(resistance_list_air[:1])*pow(10,-6)\n",
    "r_base_to_K_grid_air = pst.R_in_series(resistance_list_air[:2])*pow(10,-6)\n",
    "r_base_to_A_grid_air = pst.R_in_series(resistance_list_air[:3])*pow(10,-6)\n",
    "r_base_to_A_plate_air = pst.R_in_series(resistance_list_air[:4])*pow(10,-6)"
   ]
  },
  {
   "cell_type": "code",
   "execution_count": 18,
   "metadata": {},
   "outputs": [],
   "source": [
    "C1_air = pst.C_from_plates(e_air, spacer, pst.area_radius(r_grid), pst.area_radius(r_A_plate))\n",
    "C2_air = pst.C_from_plates(e_air, 2*spacer, pst.area_radius(r_K_plate), pst.area_radius(r_grid))\n",
    "C3_air = pst.C_from_plates(e_air, spacer, pst.area_radius(r_base), pst.area_radius(r_K_plate))\n",
    "Cgrid_air = pst.C_from_plates(e_air, spacer, pst.area_radius(r_grid), pst.area_radius(r_grid))/16"
   ]
  },
  {
   "cell_type": "code",
   "execution_count": 19,
   "metadata": {},
   "outputs": [],
   "source": [
    "capacitance_list_air = [C3_air,C2_air,Cgrid_air,C1_air]"
   ]
  },
  {
   "cell_type": "code",
   "execution_count": 20,
   "metadata": {},
   "outputs": [],
   "source": [
    "c_base_to_K_plate_air = C3_air*pow(10,12)\n",
    "c_base_to_K_grid_air = pst.C_in_series(capacitance_list_air[:2])*pow(10,12)\n",
    "c_base_to_A_grid_air = pst.C_in_series(capacitance_list_air[:3])*pow(10,12)\n",
    "c_base_to_A_plate_air = pst.C_in_series(capacitance_list_air[:4])*pow(10,12)"
   ]
  },
  {
   "cell_type": "code",
   "execution_count": 21,
   "metadata": {},
   "outputs": [],
   "source": [
    "C1_lar = pst.C_from_plates(e_lar, spacer, pst.area_radius(r_grid), pst.area_radius(r_A_plate))\n",
    "C2_lar = pst.C_from_plates(e_lar, 2*spacer, pst.area_radius(r_K_plate), pst.area_radius(r_grid))\n",
    "C3_lar = pst.C_from_plates(e_lar, spacer, pst.area_radius(r_base), pst.area_radius(r_K_plate))\n",
    "Cgrid_lar = pst.C_from_plates(e_lar, spacer, pst.area_radius(r_grid), pst.area_radius(r_grid))/16"
   ]
  },
  {
   "cell_type": "code",
   "execution_count": 22,
   "metadata": {},
   "outputs": [],
   "source": [
    "capacitance_list_lar = [C3_lar,C2_lar,Cgrid_lar,C1_lar]"
   ]
  },
  {
   "cell_type": "code",
   "execution_count": 23,
   "metadata": {},
   "outputs": [],
   "source": [
    "c_base_to_K_plate_lar = C3_lar*pow(10,12)\n",
    "c_base_to_K_grid_lar = pst.C_in_series(capacitance_list_lar[:2])*pow(10,12)\n",
    "c_base_to_A_grid_lar = pst.C_in_series(capacitance_list_lar[:3])*pow(10,12)\n",
    "c_base_to_A_plate_lar = pst.C_in_series(capacitance_list_lar[:4])*pow(10,12)"
   ]
  },
  {
   "cell_type": "code",
   "execution_count": 24,
   "metadata": {},
   "outputs": [],
   "source": [
    "###create a table\n",
    "\n",
    "#define header names\n",
    "col_names = [\"Air\", \"LAr\"]\n",
    "r_list = [[\"r_base_to_K_plate [MOhm]\",r_base_to_K_plate_air,1],[\"r_base_to_K_grid[MOhm]\",r_base_to_K_grid_air,1],[\"r_base_to_A_grid[MOhm]\",r_base_to_A_grid_air,1],[\"r_base_to_A_plate[MOhm]\",r_base_to_A_plate_air,1]]\n",
    "c_list = [[\"c_base_to_K_plate [pF]\",c_base_to_K_plate_air,c_base_to_K_plate_lar],[\"c_base_to_K_grid [pF]\",c_base_to_K_grid_air,c_base_to_K_grid_lar],[\"c_base_to_A_grid [pF]\",c_base_to_A_grid_air,c_base_to_A_grid_lar],[\"c_base_to_A_plate [pF]\",c_base_to_A_plate_air,c_base_to_A_plate_lar]]"
   ]
  },
  {
   "cell_type": "code",
   "execution_count": 25,
   "metadata": {},
   "outputs": [
    {
     "name": "stdout",
     "output_type": "stream",
     "text": [
      "╒══════════════════════════╤═════════════╤═══════╕\n",
      "│                          │         Air │   LAr │\n",
      "╞══════════════════════════╪═════════════╪═══════╡\n",
      "│ r_base_to_K_plate [MOhm] │ 5.09296e+17 │     1 │\n",
      "├──────────────────────────┼─────────────┼───────┤\n",
      "│ r_base_to_K_grid[MOhm]   │ 1.52789e+18 │     1 │\n",
      "├──────────────────────────┼─────────────┼───────┤\n",
      "│ r_base_to_A_grid[MOhm]   │ 1.52789e+18 │     1 │\n",
      "├──────────────────────────┼─────────────┼───────┤\n",
      "│ r_base_to_A_plate[MOhm]  │ 2.03718e+18 │     1 │\n",
      "╘══════════════════════════╧═════════════╧═══════╛\n"
     ]
    }
   ],
   "source": [
    "print(tabulate(r_list, headers=(col_names),tablefmt=\"fancy_grid\"))"
   ]
  },
  {
   "cell_type": "code",
   "execution_count": 26,
   "metadata": {},
   "outputs": [
    {
     "name": "stdout",
     "output_type": "stream",
     "text": [
      "╒════════════════════════╤═════════════╤═════════════╕\n",
      "│                        │         Air │         LAr │\n",
      "╞════════════════════════╪═════════════╪═════════════╡\n",
      "│ c_base_to_K_plate [pF] │ 3.85148e-06 │ 5.79648e-06 │\n",
      "├────────────────────────┼─────────────┼─────────────┤\n",
      "│ c_base_to_K_grid [pF]  │ 6.37118e+30 │ 4.23334e+30 │\n",
      "├────────────────────────┼─────────────┼─────────────┤\n",
      "│ c_base_to_A_grid [pF]  │ 5.87942e+50 │ 2.59574e+50 │\n",
      "├────────────────────────┼─────────────┼─────────────┤\n",
      "│ c_base_to_A_plate [pF] │ 1.94265e+69 │ 5.69883e+68 │\n",
      "╘════════════════════════╧═════════════╧═════════════╛\n"
     ]
    }
   ],
   "source": [
    "print(tabulate(c_list, headers=(col_names),tablefmt=\"fancy_grid\"))"
   ]
  },
  {
   "cell_type": "code",
   "execution_count": null,
   "metadata": {},
   "outputs": [],
   "source": []
  }
 ],
 "metadata": {
  "kernelspec": {
   "display_name": "Python 3",
   "language": "python",
   "name": "python3"
  },
  "language_info": {
   "codemirror_mode": {
    "name": "ipython",
    "version": 3
   },
   "file_extension": ".py",
   "mimetype": "text/x-python",
   "name": "python",
   "nbconvert_exporter": "python",
   "pygments_lexer": "ipython3",
   "version": "3.7.1"
  }
 },
 "nbformat": 4,
 "nbformat_minor": 2
}
